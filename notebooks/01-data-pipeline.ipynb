{
 "cells": [
  {
   "cell_type": "code",
   "execution_count": 1,
   "metadata": {},
   "outputs": [],
   "source": [
    "# Load infoml and configure data directory\n",
    "from infoml import CONFIG\n",
    "from infoml.binf.data import CuMiDa\n",
    "from tqdm.auto import tqdm\n",
    "\n",
    "CONFIG.datadir('data/raw/');"
   ]
  },
  {
   "cell_type": "code",
   "execution_count": 3,
   "metadata": {},
   "outputs": [
    {
     "data": {
      "text/plain": [
       "PosixPath('/tmp/infoml/cumida')"
      ]
     },
     "execution_count": 3,
     "metadata": {},
     "output_type": "execute_result"
    }
   ],
   "source": [
    "CONFIG.tempdir('infoml/cumida')"
   ]
  },
  {
   "cell_type": "code",
   "execution_count": 4,
   "metadata": {},
   "outputs": [
    {
     "data": {
      "application/vnd.jupyter.widget-view+json": {
       "model_id": "550b8f9ce90b4d99b456852337e7c548",
       "version_major": 2,
       "version_minor": 0
      },
      "text/plain": [
       "Downloading GSEs:   0%|          | 0/2 [00:00<?, ?it/s]"
      ]
     },
     "metadata": {},
     "output_type": "display_data"
    },
    {
     "data": {
      "application/vnd.jupyter.widget-view+json": {
       "model_id": "aee94e9597eb4c519d25ca41979b5c55",
       "version_major": 2,
       "version_minor": 0
      },
      "text/plain": [
       "Downloading GPLs:   0%|          | 0/1 [00:00<?, ?it/s]"
      ]
     },
     "metadata": {},
     "output_type": "display_data"
    }
   ],
   "source": [
    "# Initialize CuMiDa\n",
    "cumida = CuMiDa(datadir = CONFIG.tempdir('infoml/cumida'))\n",
    "\n",
    "# Select datasets from the CuMiDa index\n",
    "selected = (cumida.index.query(\"Classes == 2 & Platform == 'GPL570'\")\n",
    "            .index.tolist())[:2]\n",
    "\n",
    "# Download datasets\n",
    "cumida.download(selected)"
   ]
  },
  {
   "cell_type": "code",
   "execution_count": 5,
   "metadata": {},
   "outputs": [
    {
     "data": {
      "application/vnd.jupyter.widget-view+json": {
       "model_id": "f3b68f6b34df4cae8425cca30194dbb1",
       "version_major": 2,
       "version_minor": 0
      },
      "text/plain": [
       "Processing files...:   0%|          | 0/2 [00:00<?, ?it/s]"
      ]
     },
     "metadata": {},
     "output_type": "display_data"
    }
   ],
   "source": [
    "# Process datasets for DGE analysis in R\n",
    "with tqdm(total=len(selected), desc=\"Processing files...\") as pbar:\n",
    "    for dataset in selected:\n",
    "        fpath = CONFIG.datadir() / ('_'.join(dataset) + '.tsv')\n",
    "\n",
    "        gse = (cumida.load(dataset)\n",
    "               .reset_index()\n",
    "               .drop(columns=['samples']))\n",
    "        gse['type'] = gse['type'].apply(lambda x: 'normal' if 'normal' in x else 'tumor')\n",
    "        gse = (gse.set_index('type').T\n",
    "               .reset_index(names=['Gene']))\n",
    "        gse['Gene'] = gse['Gene'].str.split('.').str[0]\n",
    "\n",
    "        gse.to_csv(fpath, sep='\\t', index=False)"
   ]
  },
  {
   "cell_type": "code",
   "execution_count": 7,
   "metadata": {},
   "outputs": [],
   "source": [
    "# Delete temporary files\n",
    "import shutil\n",
    "shutil.rmtree(CONFIG.tempdir())"
   ]
  }
 ],
 "metadata": {
  "kernelspec": {
   "display_name": "mlgo",
   "language": "python",
   "name": "python3"
  },
  "language_info": {
   "codemirror_mode": {
    "name": "ipython",
    "version": 3
   },
   "file_extension": ".py",
   "mimetype": "text/x-python",
   "name": "python",
   "nbconvert_exporter": "python",
   "pygments_lexer": "ipython3",
   "version": "3.10.9"
  },
  "orig_nbformat": 4
 },
 "nbformat": 4,
 "nbformat_minor": 2
}
