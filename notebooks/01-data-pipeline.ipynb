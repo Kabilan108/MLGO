{
 "cells": [
  {
   "cell_type": "code",
   "execution_count": 1,
   "metadata": {},
   "outputs": [],
   "source": [
    "import yaml"
   ]
  },
  {
   "cell_type": "code",
   "execution_count": 2,
   "metadata": {},
   "outputs": [
    {
     "data": {
      "text/plain": [
       "\"Classes == 2 & Platform == 'GPL570'\""
      ]
     },
     "execution_count": 2,
     "metadata": {},
     "output_type": "execute_result"
    }
   ],
   "source": [
    "with open('config/config.yaml', 'r') as f:\n",
    "    conf = yaml.safe_load(f)['scripts']['downloadgse.py']\n",
    "\n",
    "conf['query']"
   ]
  },
  {
   "cell_type": "code",
   "execution_count": 3,
   "metadata": {},
   "outputs": [
    {
     "data": {
      "text/plain": [
       "PosixPath('/tmp/infoml/cumida')"
      ]
     },
     "execution_count": 3,
     "metadata": {},
     "output_type": "execute_result"
    }
   ],
   "source": [
    "# Load infoml and configure data directory\n",
    "from infoml import CONFIG\n",
    "from infoml.binf.data import CuMiDa\n",
    "from tqdm.auto import tqdm\n",
    "\n",
    "CONFIG.datadir('data/raw/');\n",
    "CONFIG.tempdir('infoml/cumida')"
   ]
  },
  {
   "cell_type": "code",
   "execution_count": 40,
   "metadata": {},
   "outputs": [
    {
     "data": {
      "application/vnd.jupyter.widget-view+json": {
       "model_id": "d27def346cd949b183d131eaec651bb8",
       "version_major": 2,
       "version_minor": 0
      },
      "text/plain": [
       "Downloading GSEs:   0%|          | 0/21 [00:00<?, ?it/s]"
      ]
     },
     "metadata": {},
     "output_type": "display_data"
    },
    {
     "data": {
      "application/vnd.jupyter.widget-view+json": {
       "model_id": "012295707b10441f96f56cac80fda958",
       "version_major": 2,
       "version_minor": 0
      },
      "text/plain": [
       "Downloading GPLs:   0%|          | 0/1 [00:00<?, ?it/s]"
      ]
     },
     "metadata": {},
     "output_type": "display_data"
    }
   ],
   "source": [
    "# Initialize CuMiDa\n",
    "cumida = CuMiDa(datadir = CONFIG.tempdir('infoml/cumida'))\n",
    "\n",
    "# Select datasets from the CuMiDa index\n",
    "selected = (cumida.index.query(\"Classes == 2 & Platform == 'GPL570'\")\n",
    "            .index.tolist())\n",
    "\n",
    "# Download datasets\n",
    "cumida.download(selected)"
   ]
  },
  {
   "cell_type": "code",
   "execution_count": 5,
   "metadata": {},
   "outputs": [
    {
     "data": {
      "text/plain": [
       "'0.8.0'"
      ]
     },
     "execution_count": 5,
     "metadata": {},
     "output_type": "execute_result"
    }
   ],
   "source": [
    "import infoml\n",
    "infoml.__version__"
   ]
  },
  {
   "cell_type": "code",
   "execution_count": 43,
   "metadata": {},
   "outputs": [
    {
     "data": {
      "text/plain": [
       "'GSE12452_Throat'"
      ]
     },
     "execution_count": 43,
     "metadata": {},
     "output_type": "execute_result"
    }
   ],
   "source": [
    "\"_\".join(dataset)"
   ]
  },
  {
   "cell_type": "code",
   "execution_count": 41,
   "metadata": {},
   "outputs": [
    {
     "data": {
      "application/vnd.jupyter.widget-view+json": {
       "model_id": "3417442bcf3b44c5b9e9fff14b3b92a8",
       "version_major": 2,
       "version_minor": 0
      },
      "text/plain": [
       "Processing files...:   0%|          | 0/21 [00:00<?, ?it/s]"
      ]
     },
     "metadata": {},
     "output_type": "display_data"
    },
    {
     "name": "stdout",
     "output_type": "stream",
     "text": [
      "mean     4.056165\n",
      "std      1.333683\n",
      "min      1.889254\n",
      "max     14.768116\n",
      "dtype: float64\n",
      "mean     4.747963\n",
      "std      2.067425\n",
      "min      1.541930\n",
      "max     14.456886\n",
      "dtype: float64\n",
      "mean     4.851929\n",
      "std      1.954816\n",
      "min      2.015681\n",
      "max     14.370782\n",
      "dtype: float64\n",
      "mean     4.812192\n",
      "std      2.254571\n",
      "min      1.828447\n",
      "max     14.056843\n",
      "dtype: float64\n",
      "mean     5.414222\n",
      "std      2.094265\n",
      "min      2.500440\n",
      "max     14.504771\n",
      "dtype: float64\n",
      "mean     5.919155\n",
      "std      2.178486\n",
      "min      2.800013\n",
      "max     14.777527\n",
      "dtype: float64\n",
      "mean     5.468892\n",
      "std      2.265790\n",
      "min      1.926583\n",
      "max     14.329605\n",
      "dtype: float64\n",
      "mean     4.390342\n",
      "std      2.119111\n",
      "min      1.288677\n",
      "max     13.563845\n",
      "dtype: float64\n",
      "mean     5.674218\n",
      "std      2.223300\n",
      "min      2.221231\n",
      "max     14.665155\n",
      "dtype: float64\n",
      "mean     5.294868\n",
      "std      2.100098\n",
      "min      1.958571\n",
      "max     14.248572\n",
      "dtype: float64\n",
      "mean     5.950935\n",
      "std      2.245573\n",
      "min      2.422611\n",
      "max     14.816525\n",
      "dtype: float64\n",
      "mean     6.429329\n",
      "std      2.152544\n",
      "min      3.044726\n",
      "max     14.888213\n",
      "dtype: float64\n",
      "mean     5.341689\n",
      "std      2.147305\n",
      "min      2.695615\n",
      "max     14.450576\n",
      "dtype: float64\n",
      "mean     5.122676\n",
      "std      2.119767\n",
      "min      1.810231\n",
      "max     14.401299\n",
      "dtype: float64\n",
      "mean     5.506144\n",
      "std      2.179231\n",
      "min      1.670817\n",
      "max     14.962729\n",
      "dtype: float64\n",
      "mean     5.289075\n",
      "std      2.217636\n",
      "min      1.797926\n",
      "max     14.479609\n",
      "dtype: float64\n",
      "mean     5.804875\n",
      "std      2.453900\n",
      "min      1.706381\n",
      "max     14.535890\n",
      "dtype: float64\n",
      "mean     5.628465\n",
      "std      2.197407\n",
      "min      2.164321\n",
      "max     14.225795\n",
      "dtype: float64\n",
      "mean     5.491791\n",
      "std      2.173110\n",
      "min      1.982454\n",
      "max     14.561257\n",
      "dtype: float64\n",
      "mean     7.305016\n",
      "std      1.909307\n",
      "min      3.931395\n",
      "max     15.012169\n",
      "dtype: float64\n",
      "mean     6.463057\n",
      "std      1.795854\n",
      "min      2.907307\n",
      "max     14.538964\n",
      "dtype: float64\n"
     ]
    }
   ],
   "source": [
    "# Process datasets for DGE analysis in R\n",
    "with tqdm(total=len(selected), desc=\"Processing files...\") as pbar:\n",
    "    for dataset in selected:\n",
    "       fpath = CONFIG.datadir() / ('_'.join(dataset) + '.tsv')\n",
    "\n",
    "       gse = (cumida.load(dataset, probe_ids=True)\n",
    "              .reset_index()\n",
    "              .drop(columns=['samples'])\n",
    "              .reset_index(names=['sample']))\n",
    "       gse['sample'] = 'S' + (gse['sample'] + 1).astype(str)\n",
    "       gse['type'] = gse['type'].apply(lambda x: 'normal' if 'normal' in x else 'tumor')\n",
    "\n",
    "       exprs = (gse.drop(columns=['type'])\n",
    "         .set_index('sample')\n",
    "         .rename_axis('').T)\n",
    "       # exprs.to_csv('exprs.tsv', sep='\\t', index=True)\n",
    "       \n",
    "       data = (gse[['sample', 'type']]\n",
    "         .set_index('sample')\n",
    "         .rename_axis(''))\n",
    "       # data.to_csv('data.tsv', sep='\\t', index=True)\n",
    "\n",
    "       print(exprs.describe().loc[['mean', 'std', 'min', 'max']].mean(axis=1))"
   ]
  },
  {
   "cell_type": "code",
   "execution_count": 7,
   "metadata": {},
   "outputs": [],
   "source": [
    "# Delete temporary files\n",
    "import shutil\n",
    "shutil.rmtree(CONFIG.tempdir())"
   ]
  }
 ],
 "metadata": {
  "kernelspec": {
   "display_name": "mlgo",
   "language": "python",
   "name": "python3"
  },
  "language_info": {
   "codemirror_mode": {
    "name": "ipython",
    "version": 3
   },
   "file_extension": ".py",
   "mimetype": "text/x-python",
   "name": "python",
   "nbconvert_exporter": "python",
   "pygments_lexer": "ipython3",
   "version": "3.10.9"
  },
  "orig_nbformat": 4
 },
 "nbformat": 4,
 "nbformat_minor": 2
}
