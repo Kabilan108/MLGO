{
 "cells": [
  {
   "attachments": {},
   "cell_type": "markdown",
   "metadata": {},
   "source": [
    "# MLGO: Deep Neural Network for Gene Ontology Prediction\n",
    "\n",
    "## Preliminary Analysis Report\n",
    "\n",
    "**By: [Tony Kabilan Okeke](mailto:tko35@drexel.edu)**\n",
    "\n",
    "### Data Preparation\n",
    "\n",
    "- For this project, I am using RNA-seq datasets from the *Digital Expression Explorer 2*\n",
    "  repository.\n",
    "- I am using their mouse (*M. musculus*) datasets.\n",
    "- For each dataset, I am performing differential expression analysis using the\n",
    "  `limma` package in R, followed by Gene Ontology enrichment analysis using the\n",
    "  `GOfuncR` package. (See `scripts/loaddatasets.R` for details.)\n",
    "- The datasets are then cleaned and saved as a single `DataFrame` in the\n",
    "  `data/processed/clean-data.feather` file.\n",
    "  - The features are log fold changes of each of the genes sequenced, and the\n",
    "    labels are the Gene Ontology terms that are enriched in the dataset.\n",
    "- For this report, 100 datasets were processed and saved. Datasets whose rows\n",
    "  contain `NA` values did not contain enough groups to perform differential\n",
    "  expression analysis."
   ]
  },
  {
   "cell_type": "code",
   "execution_count": 21,
   "metadata": {},
   "outputs": [],
   "source": [
    "# Imports\n",
    "import matplotlib.pyplot as plt\n",
    "import feather as ft\n",
    "import pandas as pd\n",
    "import numpy as np\n",
    "import yaml\n",
    "\n",
    "# Load config\n",
    "with open('config/config.yaml', 'r') as f:\n",
    "    config = yaml.safe_load(f)\n",
    "\n",
    "# Load data\n",
    "df = ft.read_dataframe(config['paths']['processed'])\n",
    "\n",
    "# Drop NAs\n",
    "df = df.dropna()"
   ]
  },
  {
   "attachments": {},
   "cell_type": "markdown",
   "metadata": {},
   "source": [
    "### Separate Data into Features and Labels"
   ]
  },
  {
   "cell_type": "code",
   "execution_count": 32,
   "metadata": {},
   "outputs": [
    {
     "name": "stdout",
     "output_type": "stream",
     "text": [
      "There are 70 samples (datasets) and 49045 features (genes).\n"
     ]
    }
   ],
   "source": [
    "# Split data into features and labels\n",
    "samples = df['GSE'].to_numpy()\n",
    "X = df.iloc[:,1:-1].values\n",
    "y = df['GO_terms']\n",
    "features = df.columns[1:-1] # Remove GSE and GO_terms\n",
    "\n",
    "print(\"There are {} samples (datasets) and {} features (genes).\".format(X.shape[0], X.shape[1]))"
   ]
  },
  {
   "attachments": {},
   "cell_type": "markdown",
   "metadata": {},
   "source": [
    "### One-Hot Encode GO Terms\n",
    "\n",
    "- Here, I will convert the lists of GO terms in `y` into a one-hot encoded matrix.\n",
    "- To limit the number of output labels, I will only use GO terms that appear in\n",
    "  at least 30 datasets.\n",
    "  - When training the model, this threshold will be adjusted based on how\n",
    "    many datasets are available."
   ]
  },
  {
   "cell_type": "code",
   "execution_count": 33,
   "metadata": {},
   "outputs": [
    {
     "name": "stdout",
     "output_type": "stream",
     "text": [
      "There are 5299 GO terms in total.\n",
      "There are 89 GO terms that occur more than 10 times.\n"
     ]
    }
   ],
   "source": [
    "# One-hot encode labels\n",
    "y = y.str.get_dummies(sep=\";\")\n",
    "print(\"There are {} GO terms in total.\".format(y.shape[1]))\n",
    "\n",
    "# Remove GO terms that occur less than 10 times\n",
    "y = y.loc[:, (y.sum() > 30)]\n",
    "labels = y.columns\n",
    "Y = y.values\n",
    "\n",
    "# Sort labels by frequency\n",
    "freq = Y.sum(axis=0)\n",
    "idx = np.argsort(freq)[::-1]\n",
    "Y = Y[:,idx]\n",
    "labels = labels[idx]\n",
    "\n",
    "print(\"There are {} GO terms that occur more than 10 times.\".format(Y.shape[1]))"
   ]
  },
  {
   "attachments": {},
   "cell_type": "markdown",
   "metadata": {},
   "source": [
    "### Target Class Distribution\n",
    "\n",
    "- Due to the large number of GO terms (target classes), I will show their\n",
    "  distribution in a bar chart, instead of the required pie chart."
   ]
  },
  {
   "cell_type": "code",
   "execution_count": 53,
   "metadata": {},
   "outputs": [
    {
     "data": {
      "text/plain": [
       "Text(0, 0.5, 'Frequency')"
      ]
     },
     "execution_count": 53,
     "metadata": {},
     "output_type": "execute_result"
    },
    {
     "data": {
      "image/png": "[encoded data removed]",
      "text/plain": [
       "<Figure size 600x300 with 1 Axes>"
      ]
     },
     "metadata": {},
     "output_type": "display_data"
    }
   ],
   "source": [
    "fig, ax = plt.subplots(figsize=(6,3))\n",
    "ax.bar(labels, freq[idx])\n",
    "ax.set_xticks(np.arange(0, len(labels), 4))\n",
    "ax.set_xticklabels(labels[::4], rotation=45, ha='right', fontsize=8);\n",
    "ax.set_xlabel('GO Terms')\n",
    "ax.set_ylabel('Frequency')"
   ]
  },
  {
   "attachments": {},
   "cell_type": "markdown",
   "metadata": {},
   "source": [
    "### Attribute Distribution & Correlation\n",
    "\n",
    "- In the table generated below, the correlation is calculated between each\n",
    "  attribute (gene) and the most prevalent GO term in the dataset."
   ]
  },
  {
   "cell_type": "code",
   "execution_count": 68,
   "metadata": {},
   "outputs": [
    {
     "name": "stderr",
     "output_type": "stream",
     "text": [
      "/home/muaddib/.conda/envs/mlgo/lib/python3.10/site-packages/numpy/lib/function_base.py:2853: RuntimeWarning: invalid value encountered in divide\n",
      "  c /= stddev[:, None]\n",
      "/home/muaddib/.conda/envs/mlgo/lib/python3.10/site-packages/numpy/lib/function_base.py:2854: RuntimeWarning: invalid value encountered in divide\n",
      "  c /= stddev[None, :]\n"
     ]
    },
    {
     "data": {
      "text/html": [
       "<div>\n",
       "<style scoped>\n",
       "    .dataframe tbody tr th:only-of-type {\n",
       "        vertical-align: middle;\n",
       "    }\n",
       "\n",
       "    .dataframe tbody tr th {\n",
       "        vertical-align: top;\n",
       "    }\n",
       "\n",
       "    .dataframe thead th {\n",
       "        text-align: right;\n",
       "    }\n",
       "</style>\n",
       "<table border=\"1\" class=\"dataframe\">\n",
       "  <thead>\n",
       "    <tr style=\"text-align: right;\">\n",
       "      <th></th>\n",
       "      <th>min</th>\n",
       "      <th>max</th>\n",
       "      <th>mean</th>\n",
       "      <th>std</th>\n",
       "      <th>corr_GO:0004984</th>\n",
       "    </tr>\n",
       "  </thead>\n",
       "  <tbody>\n",
       "    <tr>\n",
       "      <th>Vmn1r-ps86</th>\n",
       "      <td>-0.166667</td>\n",
       "      <td>43.022222</td>\n",
       "      <td>0.868100</td>\n",
       "      <td>5.493269</td>\n",
       "      <td>0.326846</td>\n",
       "    </tr>\n",
       "    <tr>\n",
       "      <th>Il1rn</th>\n",
       "      <td>-577.250000</td>\n",
       "      <td>2895.625000</td>\n",
       "      <td>101.922069</td>\n",
       "      <td>487.813546</td>\n",
       "      <td>0.308222</td>\n",
       "    </tr>\n",
       "    <tr>\n",
       "      <th>Rad23b</th>\n",
       "      <td>-5409.023810</td>\n",
       "      <td>11768.933333</td>\n",
       "      <td>78.477999</td>\n",
       "      <td>2163.028045</td>\n",
       "      <td>0.302761</td>\n",
       "    </tr>\n",
       "    <tr>\n",
       "      <th>A330044P14Rik</th>\n",
       "      <td>-0.380066</td>\n",
       "      <td>24.178261</td>\n",
       "      <td>0.358458</td>\n",
       "      <td>2.869636</td>\n",
       "      <td>0.300433</td>\n",
       "    </tr>\n",
       "    <tr>\n",
       "      <th>Ccdc120</th>\n",
       "      <td>-1254.600000</td>\n",
       "      <td>2779.000000</td>\n",
       "      <td>27.636136</td>\n",
       "      <td>468.283669</td>\n",
       "      <td>0.299827</td>\n",
       "    </tr>\n",
       "    <tr>\n",
       "      <th>Pcsk9</th>\n",
       "      <td>-2283.250000</td>\n",
       "      <td>9560.375000</td>\n",
       "      <td>296.422229</td>\n",
       "      <td>1445.636375</td>\n",
       "      <td>0.296206</td>\n",
       "    </tr>\n",
       "    <tr>\n",
       "      <th>Gm15509</th>\n",
       "      <td>-127.166667</td>\n",
       "      <td>217.068966</td>\n",
       "      <td>4.243981</td>\n",
       "      <td>36.538720</td>\n",
       "      <td>0.296048</td>\n",
       "    </tr>\n",
       "    <tr>\n",
       "      <th>Arl14epl</th>\n",
       "      <td>0.000000</td>\n",
       "      <td>0.000000</td>\n",
       "      <td>0.000000</td>\n",
       "      <td>0.000000</td>\n",
       "      <td>0.295745</td>\n",
       "    </tr>\n",
       "    <tr>\n",
       "      <th>G630064G18Rik</th>\n",
       "      <td>0.000000</td>\n",
       "      <td>2.222222</td>\n",
       "      <td>0.031746</td>\n",
       "      <td>0.263702</td>\n",
       "      <td>0.294614</td>\n",
       "    </tr>\n",
       "    <tr>\n",
       "      <th>Exoc3l4</th>\n",
       "      <td>-6568.000000</td>\n",
       "      <td>10366.500000</td>\n",
       "      <td>113.985305</td>\n",
       "      <td>1485.916886</td>\n",
       "      <td>0.291873</td>\n",
       "    </tr>\n",
       "  </tbody>\n",
       "</table>\n",
       "</div>"
      ],
      "text/plain": [
       "                       min           max        mean          std  \\\n",
       "Vmn1r-ps86       -0.166667     43.022222    0.868100     5.493269   \n",
       "Il1rn          -577.250000   2895.625000  101.922069   487.813546   \n",
       "Rad23b        -5409.023810  11768.933333   78.477999  2163.028045   \n",
       "A330044P14Rik    -0.380066     24.178261    0.358458     2.869636   \n",
       "Ccdc120       -1254.600000   2779.000000   27.636136   468.283669   \n",
       "Pcsk9         -2283.250000   9560.375000  296.422229  1445.636375   \n",
       "Gm15509        -127.166667    217.068966    4.243981    36.538720   \n",
       "Arl14epl          0.000000      0.000000    0.000000     0.000000   \n",
       "G630064G18Rik     0.000000      2.222222    0.031746     0.263702   \n",
       "Exoc3l4       -6568.000000  10366.500000  113.985305  1485.916886   \n",
       "\n",
       "               corr_GO:0004984  \n",
       "Vmn1r-ps86            0.326846  \n",
       "Il1rn                 0.308222  \n",
       "Rad23b                0.302761  \n",
       "A330044P14Rik         0.300433  \n",
       "Ccdc120               0.299827  \n",
       "Pcsk9                 0.296206  \n",
       "Gm15509               0.296048  \n",
       "Arl14epl              0.295745  \n",
       "G630064G18Rik         0.294614  \n",
       "Exoc3l4               0.291873  "
      ]
     },
     "execution_count": 68,
     "metadata": {},
     "output_type": "execute_result"
    }
   ],
   "source": [
    "# Create a dataframe with the min, max, mean, std of each feature\n",
    "df_stats = pd.DataFrame({\n",
    "    'min': X.min(axis=0), \n",
    "    'max': X.max(axis=0), \n",
    "    'mean': X.mean(axis=0), \n",
    "    'std': X.std(axis=0)\n",
    "}, index=features)\n",
    "df_stats = df_stats.sort_values(by='mean', ascending=False)\n",
    "df_stats.head()\n",
    "\n",
    "# Calculater correlation of each feature with the first label\n",
    "corr = np.zeros(X.shape[1])\n",
    "for i in range(X.shape[1]):\n",
    "    corr[i] = np.corrcoef(X[:,i], Y[:,0])[0,1]\n",
    "df_stats['corr_' + labels[0]] = corr\n",
    "\n",
    "# Show top 10 features with highest correlation with the first label\n",
    "df_stats.sort_values(by='corr_' + labels[0], ascending=False).head(10)"
   ]
  }
 ],
 "metadata": {
  "kernelspec": {
   "display_name": "mlgo",
   "language": "python",
   "name": "python3"
  },
  "language_info": {
   "codemirror_mode": {
    "name": "ipython",
    "version": 3
   },
   "file_extension": ".py",
   "mimetype": "text/x-python",
   "name": "python",
   "nbconvert_exporter": "python",
   "pygments_lexer": "ipython3",
   "version": "3.10.9"
  },
  "orig_nbformat": 4,
  "vscode": {
   "interpreter": {
    "hash": "37a863925245f63826c76e03d588b260b21a6d5417ede353df91ee186be6f027"
   }
  }
 },
 "nbformat": 4,
 "nbformat_minor": 2
}
