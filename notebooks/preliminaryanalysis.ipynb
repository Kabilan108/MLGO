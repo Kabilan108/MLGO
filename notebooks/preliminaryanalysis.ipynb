{
 "cells": [
  {
   "attachments": {},
   "cell_type": "markdown",
   "metadata": {},
   "source": [
    "# MLGO: Deep Neural Network for Gene Ontology Prediction\n",
    "\n",
    "## Preliminary Analysis Report\n",
    "\n",
    "**By: [Tony Kabilan Okeke](mailto:tko35@drexel.edu)**"
   ]
  },
  {
   "cell_type": "code",
   "execution_count": null,
   "metadata": {},
   "outputs": [],
   "source": []
  }
 ],
 "metadata": {
  "kernelspec": {
   "display_name": "mlgo",
   "language": "python",
   "name": "python3"
  },
  "language_info": {
   "name": "python",
   "version": "3.10.9"
  },
  "orig_nbformat": 4
 },
 "nbformat": 4,
 "nbformat_minor": 2
}
